{
 "cells": [
  {
   "cell_type": "markdown",
   "id": "5c8ab3fb-3311-410f-a8a7-997cc97b27d8",
   "metadata": {},
   "source": [
    "# Data Science Tools and Ecosystem"
   ]
  },
  {
   "cell_type": "markdown",
   "id": "2d616741-8d7d-4250-82a1-e078858bdf36",
   "metadata": {},
   "source": [
    "*In this notebook, Data Science Tools and Ecosystem are summarized.*"
   ]
  },
  {
   "cell_type": "markdown",
   "id": "f0e9bae3-c9f4-40be-853d-d03dbd212622",
   "metadata": {},
   "source": [
    "**Objectives:**\n",
    "- List popular languages for Data Science \n",
    "- Data science libraries\n",
    "- Markdown cell with a table of Data Science tools\n",
    "- Arithmetic expression examples\n",
    "- Author's Name"
   ]
  },
  {
   "cell_type": "markdown",
   "id": "dbe69bf9-a4c3-463d-9a3a-344f18848004",
   "metadata": {},
   "source": [
    "1. Python  \n",
    "2. R  \n",
    "3. SQL  \n",
    "4. Julia  "
   ]
  },
  {
   "cell_type": "markdown",
   "id": "2669849a-e9c6-4912-b7b4-1566ff7eb427",
   "metadata": {},
   "source": [
    "1. Pandas  \n",
    "2. NumPy  \n",
    "3. Scikit-learn  \n",
    "4. TensorFlow  "
   ]
  },
  {
   "cell_type": "markdown",
   "id": "5de53f3b-3b03-4950-8ab0-d593d2002089",
   "metadata": {},
   "source": [
    "| Data Science Tools |\n",
    "|--------------------|\n",
    "| Jupyter Notebook   |\n",
    "| RStudio            |\n",
    "| VS Code            |"
   ]
  },
  {
   "cell_type": "markdown",
   "id": "b63f38e0-59e4-46c7-a2ec-b94466136e98",
   "metadata": {},
   "source": [
    "### Below are a few examples of evaluating arithmetic expressions in Python"
   ]
  },
  {
   "cell_type": "code",
   "execution_count": 3,
   "id": "6d15236a-11bb-4ddd-a665-00b5722d869a",
   "metadata": {},
   "outputs": [
    {
     "data": {
      "text/plain": [
       "17"
      ]
     },
     "execution_count": 3,
     "metadata": {},
     "output_type": "execute_result"
    }
   ],
   "source": [
    "# This is a simple arithmetic expression to multiply then add integers\n",
    "(3 * 4) + 5"
   ]
  },
  {
   "cell_type": "code",
   "execution_count": 4,
   "id": "96653407-9489-422f-8be9-1dd9ba9671f5",
   "metadata": {},
   "outputs": [
    {
     "data": {
      "text/plain": [
       "3.3333333333333335"
      ]
     },
     "execution_count": 4,
     "metadata": {},
     "output_type": "execute_result"
    }
   ],
   "source": [
    "# This will convert 200 minutes to hours by dividing by 60\n",
    "200 / 60"
   ]
  },
  {
   "cell_type": "markdown",
   "id": "9e253f58-fd53-44d6-bffc-f216375e99a6",
   "metadata": {},
   "source": [
    "## Author  \n",
    "Jorge Armando Gómez Aca"
   ]
  },
  {
   "cell_type": "code",
   "execution_count": null,
   "id": "97de365b-4821-4898-b8e2-1d834e7f8dc4",
   "metadata": {},
   "outputs": [],
   "source": []
  }
 ],
 "metadata": {
  "kernelspec": {
   "display_name": "Python 3 (ipykernel)",
   "language": "python",
   "name": "python3"
  },
  "language_info": {
   "codemirror_mode": {
    "name": "ipython",
    "version": 3
   },
   "file_extension": ".py",
   "mimetype": "text/x-python",
   "name": "python",
   "nbconvert_exporter": "python",
   "pygments_lexer": "ipython3",
   "version": "3.12.7"
  }
 },
 "nbformat": 4,
 "nbformat_minor": 5
}
